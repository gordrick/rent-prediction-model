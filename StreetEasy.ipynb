{
  "nbformat": 4,
  "nbformat_minor": 0,
  "metadata": {
    "colab": {
      "name": "StreetEasy.ipynb",
      "provenance": [],
      "collapsed_sections": [],
      "toc_visible": true,
      "authorship_tag": "ABX9TyNR6gQUCjWEfECrWFfnMmqW",
      "include_colab_link": true
    },
    "kernelspec": {
      "name": "python3",
      "display_name": "Python 3"
    }
  },
  "cells": [
    {
      "cell_type": "markdown",
      "metadata": {
        "id": "view-in-github",
        "colab_type": "text"
      },
      "source": [
        "<a href=\"https://colab.research.google.com/github/gordrick/rent-prediction-model/blob/master/StreetEasy.ipynb\" target=\"_parent\"><img src=\"https://colab.research.google.com/assets/colab-badge.svg\" alt=\"Open In Colab\"/></a>"
      ]
    },
    {
      "cell_type": "markdown",
      "metadata": {
        "id": "AyopUOOkPery",
        "colab_type": "text"
      },
      "source": [
        "# Imports\n",
        "Import all the modules needed for the analysis."
      ]
    },
    {
      "cell_type": "code",
      "metadata": {
        "colab_type": "code",
        "id": "PJ2y0i_iP5HO",
        "colab": {}
      },
      "source": [
        "!pip install -q seaborn"
      ],
      "execution_count": null,
      "outputs": []
    },
    {
      "cell_type": "code",
      "metadata": {
        "id": "Mu176ODrGHtr",
        "colab_type": "code",
        "colab": {}
      },
      "source": [
        "!pip install git+https://github.com/tensorflow/docs"
      ],
      "execution_count": null,
      "outputs": []
    },
    {
      "cell_type": "code",
      "metadata": {
        "id": "-upKANUMg9_G",
        "colab_type": "code",
        "colab": {}
      },
      "source": [
        "%tensorflow_version 2.x"
      ],
      "execution_count": null,
      "outputs": []
    },
    {
      "cell_type": "code",
      "metadata": {
        "id": "N-RskV0OKvQ6",
        "colab_type": "code",
        "colab": {}
      },
      "source": [
        "from __future__ import absolute_import, division, print_function, unicode_literals\n",
        "\n",
        "import numpy as np\n",
        "import pandas as pd\n",
        "import matplotlib.pyplot as plt\n",
        "import seaborn as sns\n",
        "from IPython.display import clear_output\n",
        "from six.moves import urllib\n",
        "\n",
        "import tensorflow.compat.v2.feature_column as fc\n",
        "\n",
        "import tensorflow as tf\n",
        "\n",
        "from tensorflow import keras\n",
        "from tensorflow.keras import layers"
      ],
      "execution_count": null,
      "outputs": []
    },
    {
      "cell_type": "code",
      "metadata": {
        "id": "lIzF64w-Fz7M",
        "colab_type": "code",
        "colab": {}
      },
      "source": [
        "import tensorflow_docs as tfdocs\n",
        "import tensorflow_docs.plots\n",
        "import tensorflow_docs.modeling"
      ],
      "execution_count": null,
      "outputs": []
    },
    {
      "cell_type": "markdown",
      "metadata": {
        "id": "3RK_l9jaQQp0",
        "colab_type": "text"
      },
      "source": [
        "# Load The Data\n",
        "Load the StreetEasy data from the csv file using pandas read_csv method."
      ]
    },
    {
      "cell_type": "code",
      "metadata": {
        "id": "hM9Pv_QYKy0C",
        "colab_type": "code",
        "colab": {}
      },
      "source": [
        "streeteasy = pd.read_csv('https://raw.githubusercontent.com/Codecademy/datasets/master/streeteasy/streeteasy.csv')\n",
        "df = streeteasy[['bedrooms', 'bathrooms', 'rent', 'size_sqft', 'min_to_subway', 'floor', 'building_age_yrs', 'no_fee', 'has_roofdeck', 'has_washer_dryer', 'has_doorman', 'has_elevator', 'has_dishwasher', 'has_patio', 'has_gym']]"
      ],
      "execution_count": null,
      "outputs": []
    },
    {
      "cell_type": "markdown",
      "metadata": {
        "id": "Ey6HcMFzlPlI",
        "colab_type": "text"
      },
      "source": [
        "# Split the data to training and testing sets\n"
      ]
    },
    {
      "cell_type": "code",
      "metadata": {
        "id": "gs2eLVRrla7Y",
        "colab_type": "code",
        "colab": {}
      },
      "source": [
        "train = df.sample(frac=0.8, random_state=0)\n",
        "test = df.drop(train.index)"
      ],
      "execution_count": null,
      "outputs": []
    },
    {
      "cell_type": "markdown",
      "metadata": {
        "id": "ntYaePD-xGtY",
        "colab_type": "text"
      },
      "source": [
        "# Inspect the data"
      ]
    },
    {
      "cell_type": "code",
      "metadata": {
        "id": "p5byJKk1_sK9",
        "colab_type": "code",
        "colab": {}
      },
      "source": [
        "train_stats = train.describe()\n",
        "train_stats.pop('rent')\n",
        "train_stats = train_stats.transpose()\n",
        "train_stats"
      ],
      "execution_count": null,
      "outputs": []
    },
    {
      "cell_type": "markdown",
      "metadata": {
        "id": "RmJsEYfypvMJ",
        "colab_type": "text"
      },
      "source": [
        "# Split features from labels\n",
        "Separate the label (rent) from the features. We are training the model to predict the rent."
      ]
    },
    {
      "cell_type": "code",
      "metadata": {
        "id": "uFDL31RoqcR1",
        "colab_type": "code",
        "colab": {}
      },
      "source": [
        "train_labels = train.pop('rent')\n",
        "test_labels = test.pop('rent')"
      ],
      "execution_count": null,
      "outputs": []
    },
    {
      "cell_type": "markdown",
      "metadata": {
        "id": "Ka8ed3ZADgzn",
        "colab_type": "text"
      },
      "source": [
        "# Normalize the data\n",
        "Normalize features that use different scales and ranges."
      ]
    },
    {
      "cell_type": "code",
      "metadata": {
        "id": "EbB7-x3HD5O7",
        "colab_type": "code",
        "colab": {}
      },
      "source": [
        "def norm(x):\n",
        "  return (x - train_stats['mean']) / train_stats['std']\n",
        "normed_train_data = norm(train)\n",
        "normed_test_data = norm(test)"
      ],
      "execution_count": null,
      "outputs": []
    },
    {
      "cell_type": "markdown",
      "metadata": {
        "id": "NY8q2fCREM3v",
        "colab_type": "text"
      },
      "source": [
        "# Building the Model"
      ]
    },
    {
      "cell_type": "code",
      "metadata": {
        "id": "90q-hYwLESH8",
        "colab_type": "code",
        "colab": {}
      },
      "source": [
        "def build_model():\n",
        "  model = keras.Sequential([\n",
        "    layers.Dense(64, activation='relu', input_shape=[len(train.keys())]),\n",
        "    layers.Dense(64, activation='relu'),\n",
        "    layers.Dense(1)\n",
        "  ])\n",
        "\n",
        "  optimizer = tf.keras.optimizers.RMSprop(0.001)\n",
        "\n",
        "  model.compile(loss='mse',\n",
        "                optimizer=optimizer,\n",
        "                metrics=['mae', 'mse'])\n",
        "  return model"
      ],
      "execution_count": null,
      "outputs": []
    },
    {
      "cell_type": "code",
      "metadata": {
        "id": "SMWvkScGEgEs",
        "colab_type": "code",
        "colab": {}
      },
      "source": [
        "model = build_model()"
      ],
      "execution_count": null,
      "outputs": []
    },
    {
      "cell_type": "markdown",
      "metadata": {
        "id": "yUp85BFRFD7d",
        "colab_type": "text"
      },
      "source": [
        "# Training the Model\n",
        "Training the model and set call to automatically stop training when the validation score doesn't improve."
      ]
    },
    {
      "cell_type": "code",
      "metadata": {
        "id": "8cFDybdrFqUz",
        "colab_type": "code",
        "colab": {}
      },
      "source": [
        "EPOCHS =1000\n",
        "early_stop = keras.callbacks.EarlyStopping(monitor='val_loss', patience=20)\n",
        "\n",
        "early_history = model.fit(normed_train_data, train_labels, \n",
        "                    epochs=EPOCHS, validation_split = 0.2, verbose=0, \n",
        "                    callbacks=[early_stop, tfdocs.modeling.EpochDots()])"
      ],
      "execution_count": null,
      "outputs": []
    },
    {
      "cell_type": "markdown",
      "metadata": {
        "id": "dPxGAHR8R7Xa",
        "colab_type": "text"
      },
      "source": [
        "Early stopping is used to prevent overfitting."
      ]
    },
    {
      "cell_type": "code",
      "metadata": {
        "id": "dq3lGcWwKg9j",
        "colab_type": "code",
        "colab": {}
      },
      "source": [
        "plotter = tfdocs.plots.HistoryPlotter(smoothing_std=2)"
      ],
      "execution_count": null,
      "outputs": []
    },
    {
      "cell_type": "code",
      "metadata": {
        "id": "a4bZ0-w5KjFD",
        "colab_type": "code",
        "colab": {}
      },
      "source": [
        "plotter.plot({'Early Stopping': early_history}, metric = \"mae\")\n",
        "plt.ylim(500, 2000)\n",
        "plt.ylabel('MAE [RENT]')"
      ],
      "execution_count": null,
      "outputs": []
    },
    {
      "cell_type": "code",
      "metadata": {
        "id": "WAUkkVHxKqr7",
        "colab_type": "code",
        "colab": {}
      },
      "source": [
        "plotter.plot({'Early Stopping': early_history}, metric = \"mse\")\n",
        "plt.ylim([1000000, 10000000])\n",
        "plt.ylabel('MSE [RENT^2]')"
      ],
      "execution_count": null,
      "outputs": []
    },
    {
      "cell_type": "markdown",
      "metadata": {
        "id": "njvhuaFmILT2",
        "colab_type": "text"
      },
      "source": [
        "# Make predictions\n",
        "Use the trained model to make predictions on some data."
      ]
    },
    {
      "cell_type": "code",
      "metadata": {
        "id": "mPNbZciLIV3D",
        "colab_type": "code",
        "colab": {}
      },
      "source": [
        "test_predictions = model.predict(normed_test_data).flatten()\n",
        "\n",
        "a = plt.axes(aspect='equal')\n",
        "plt.scatter(test_labels, test_predictions)\n",
        "plt.xlabel('True Values [RENT]')\n",
        "plt.ylabel('Predictions [RENT]')\n",
        "lims = [500, 20000]\n",
        "plt.xlim(lims)\n",
        "plt.ylim(lims)\n",
        "_ = plt.plot(lims, lims)\n"
      ],
      "execution_count": null,
      "outputs": []
    },
    {
      "cell_type": "markdown",
      "metadata": {
        "id": "Bxh_VHClRVI6",
        "colab_type": "text"
      },
      "source": [
        "Check the distrubution of error."
      ]
    },
    {
      "cell_type": "code",
      "metadata": {
        "id": "Qm78sUPsRZlK",
        "colab_type": "code",
        "colab": {}
      },
      "source": [
        "error = test_predictions - test_labels\n",
        "plt.hist(error, bins = 25)\n",
        "plt.xlabel(\"Prediction Error [RENT]\")\n",
        "_ = plt.ylabel(\"Count\")"
      ],
      "execution_count": null,
      "outputs": []
    },
    {
      "cell_type": "markdown",
      "metadata": {
        "id": "ZirZnZLVSvf6",
        "colab_type": "text"
      },
      "source": [
        "Making new predictions with a set of data points using the model.\n",
        "The data set needs to be provided in the right format, normalized then passed to the model that will return a prediction.\n",
        "Example"
      ]
    },
    {
      "cell_type": "code",
      "metadata": {
        "id": "3Y-6CIDzS9o4",
        "colab_type": "code",
        "colab": {}
      },
      "source": [
        "def predict(x):\n",
        "  df_object = pd.DataFrame(x, columns=['bedrooms', 'bathrooms',  'size_sqft', 'min_to_subway', 'floor', 'building_age_yrs', 'no_fee', 'has_roofdeck', 'has_washer_dryer', 'has_doorman', 'has_elevator', 'has_dishwasher', 'has_patio', 'has_gym'])\n",
        "  train_stats = df_object.describe()\n",
        "  train_stats = train_stats.transpose()\n",
        "  normed_data = norm(df_object)\n",
        "  return model.predict(normed_data).flatten()"
      ],
      "execution_count": null,
      "outputs": []
    },
    {
      "cell_type": "markdown",
      "metadata": {
        "id": "iIzA7IGTtr6x",
        "colab_type": "text"
      },
      "source": [
        "The predict function takes in a list of values representing a listing(s) data set and returns a an array with the predicted rent."
      ]
    }
  ]
}